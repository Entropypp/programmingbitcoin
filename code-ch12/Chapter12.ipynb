{
 "cells": [
  {
   "cell_type": "code",
   "execution_count": 12,
   "metadata": {},
   "outputs": [],
   "source": [
    "############## PLEASE RUN THIS CELL FIRST! ###################\n",
    "\n",
    "# import everything and define a test runner function\n",
    "from importlib import reload\n",
    "from helper import run\n",
    "import bloomfilter\n",
    "import block\n",
    "import ecc\n",
    "import helper\n",
    "import merkleblock\n",
    "import network\n",
    "import script\n",
    "import tx"
   ]
  },
  {
   "cell_type": "code",
   "execution_count": 13,
   "metadata": {},
   "outputs": [
    {
     "name": "stdout",
     "output_type": "stream",
     "text": [
      "[0, 0, 0, 0, 0, 0, 0, 0, 0, 1]\n"
     ]
    }
   ],
   "source": [
    "from helper import hash256\n",
    "bit_field_size = 10\n",
    "bit_field = [0] * bit_field_size\n",
    "h = hash256(b'hello world')\n",
    "bit = int.from_bytes(h, 'big') % bit_field_size\n",
    "bit_field[bit] = 1\n",
    "print(bit_field)"
   ]
  },
  {
   "cell_type": "code",
   "execution_count": 14,
   "metadata": {},
   "outputs": [
    {
     "name": "stdout",
     "output_type": "stream",
     "text": [
      "[0, 0, 1, 0, 0, 0, 0, 0, 0, 1]\n"
     ]
    }
   ],
   "source": [
    "from helper import hash256\n",
    "bit_field_size = 10\n",
    "bit_field = [0] * bit_field_size\n",
    "for item in (b'hello world', b'goodbye'):\n",
    "    h = hash256(item)\n",
    "    bit = int.from_bytes(h, 'big') % bit_field_size\n",
    "    bit_field[bit] = 1\n",
    "print(bit_field)"
   ]
  },
  {
   "cell_type": "markdown",
   "metadata": {},
   "source": [
    "### Exercise 1\n",
    "\n",
    "Calculate the Bloom Filter for 'hello world' and 'goodbye' using the `hash160` hash function over a bit field of 10."
   ]
  },
  {
   "cell_type": "code",
   "execution_count": 15,
   "metadata": {},
   "outputs": [
    {
     "name": "stdout",
     "output_type": "stream",
     "text": [
      "[1, 1, 0, 0, 0, 0, 0, 0, 0, 0]\n"
     ]
    }
   ],
   "source": [
    "# Exercise 1\n",
    "\n",
    "from helper import hash160\n",
    "\n",
    "bit_field_size = 10\n",
    "bit_field = [0] * bit_field_size\n",
    "items = (b'hello world', b'goodbye')\n",
    "# loop through each item\n",
    "for item in items:\n",
    "    # hash160 the item\n",
    "    h = hash160(item)\n",
    "    # interpret hash as a Big-Endian integer and mod by bit_field_size\n",
    "    bit = int.from_bytes(h,'big') % bit_field_size\n",
    "    # set that bit in bit_field to 1\n",
    "    bit_field[bit] = 1\n",
    "# print the bit_field\n",
    "print(bit_field)"
   ]
  },
  {
   "cell_type": "code",
   "execution_count": 16,
   "metadata": {},
   "outputs": [
    {
     "name": "stdout",
     "output_type": "stream",
     "text": [
      "[1, 1, 1, 0, 0, 0, 0, 0, 0, 1]\n"
     ]
    }
   ],
   "source": [
    "from helper import hash256, hash160\n",
    "bit_field_size = 10\n",
    "bit_field = [0] * bit_field_size\n",
    "for item in (b'hello world', b'goodbye'):\n",
    "    for hash_function in (hash256, hash160):\n",
    "        h = hash_function(item)\n",
    "        bit = int.from_bytes(h, 'big') % bit_field_size\n",
    "        bit_field[bit] = 1\n",
    "print(bit_field)"
   ]
  },
  {
   "cell_type": "code",
   "execution_count": 17,
   "metadata": {},
   "outputs": [
    {
     "name": "stdout",
     "output_type": "stream",
     "text": [
      "[0, 0, 0, 0, 0, 1, 1, 0, 0, 1, 1, 0, 0, 0, 0, 0]\n"
     ]
    }
   ],
   "source": [
    "from helper import murmur3\n",
    "from bloomfilter import BIP37_CONSTANT\n",
    "field_size = 2\n",
    "num_functions = 2\n",
    "tweak = 42\n",
    "bit_field_size = field_size * 8\n",
    "bit_field = [0] * bit_field_size\n",
    "for phrase in (b'hello world', b'goodbye'):\n",
    "    for i in range(num_functions):\n",
    "        seed = i * BIP37_CONSTANT + tweak\n",
    "        h = murmur3(phrase, seed=seed)\n",
    "        bit = h % bit_field_size\n",
    "        bit_field[bit] = 1\n",
    "print(bit_field)"
   ]
  },
  {
   "cell_type": "markdown",
   "metadata": {},
   "source": [
    "### Exercise 2\n",
    "\n",
    "Given a Bloom Filter with size=10, function count=5, tweak=99, what are the bytes that are set after adding these items? (use `bit_field_to_bytes` to convert to bytes)\n",
    "\n",
    "* `b'Hello World'`\n",
    "* `b'Goodbye!'`"
   ]
  },
  {
   "cell_type": "code",
   "execution_count": 18,
   "metadata": {},
   "outputs": [
    {
     "name": "stdout",
     "output_type": "stream",
     "text": [
      "4000000a000000000800\n"
     ]
    }
   ],
   "source": [
    "# Exercise 2\n",
    "\n",
    "from bloomfilter import BloomFilter, BIP37_CONSTANT\n",
    "from helper import bit_field_to_bytes, murmur3\n",
    "\n",
    "field_size = 10\n",
    "function_count = 5\n",
    "tweak = 99\n",
    "items = (b'Hello World',  b'Goodbye!')\n",
    "#bf = BloomFilter(size=10,function_count=5,tweak=99)\n",
    "# calculate the bitfield size\n",
    "bit_field_size = field_size * 8\n",
    "# create an empty bit field\n",
    "bit_field = [0] * bit_field_size\n",
    "# loop through items\n",
    "for item in items:\n",
    "    # loop through function count\n",
    "    for i in range(num_functions):\n",
    "        # calculate the seed\n",
    "        seed = i * BIP37_CONSTANT + tweak\n",
    "        # get the murmur3 hash of the item using the seed\n",
    "        h = murmur3(item, seed=seed)\n",
    "        # mod by the bitfield size\n",
    "        bit = h % bit_field_size\n",
    "        # set the bit\n",
    "        bit_field[bit] = 1\n",
    "# convert the bit field to bytes\n",
    "bytes = bit_field_to_bytes(bit_field)\n",
    "# print the bytes in hex\n",
    "print(bytes.hex())"
   ]
  },
  {
   "cell_type": "markdown",
   "metadata": {},
   "source": [
    "### Exercise 3\n",
    "\n",
    "Write the `add` method for `BloomFilter`\n",
    "\n",
    "#### Make [this test](/edit/code-ch12/bloomfilter.py) pass: `bloomfilter.py:BloomFilterTest:test_add`"
   ]
  },
  {
   "cell_type": "code",
   "execution_count": 19,
   "metadata": {},
   "outputs": [
    {
     "name": "stderr",
     "output_type": "stream",
     "text": [
      ".\n",
      "----------------------------------------------------------------------\n",
      "Ran 1 test in 0.001s\n",
      "\n",
      "OK\n"
     ]
    }
   ],
   "source": [
    "# Exercise 3\n",
    "\n",
    "reload(bloomfilter)\n",
    "run(bloomfilter.BloomFilterTest(\"test_add\"))"
   ]
  },
  {
   "cell_type": "markdown",
   "metadata": {},
   "source": [
    "### Exercise 4\n",
    "\n",
    "Write the  `filterload` payload from the `BloomFilter` class.\n",
    "\n",
    "#### Make [this test](/edit/code-ch12/bloomfilter.py) pass: `bloomfilter.py:BloomFilterTest:test_filterload`"
   ]
  },
  {
   "cell_type": "code",
   "execution_count": 20,
   "metadata": {},
   "outputs": [
    {
     "name": "stderr",
     "output_type": "stream",
     "text": [
      ".\n",
      "----------------------------------------------------------------------\n",
      "Ran 1 test in 0.004s\n",
      "\n",
      "OK\n"
     ]
    }
   ],
   "source": [
    "# Exercise 4\n",
    "\n",
    "reload(bloomfilter)\n",
    "run(bloomfilter.BloomFilterTest(\"test_filterload\"))"
   ]
  },
  {
   "cell_type": "markdown",
   "metadata": {},
   "source": [
    "### Exercise 5\n",
    "\n",
    "Write the `serialize` method for the `GetDataMessage` class.\n",
    "\n",
    "#### Make [this test](/edit/code-ch12/network.py) pass: `network.py:GetDataMessageTest:test_serialize`"
   ]
  },
  {
   "cell_type": "code",
   "execution_count": 21,
   "metadata": {},
   "outputs": [
    {
     "name": "stderr",
     "output_type": "stream",
     "text": [
      ".\n",
      "----------------------------------------------------------------------\n",
      "Ran 1 test in 0.001s\n",
      "\n",
      "OK\n"
     ]
    }
   ],
   "source": [
    "# Exercise 5\n",
    "\n",
    "reload(network)\n",
    "run(network.GetDataMessageTest(\"test_serialize\"))"
   ]
  },
  {
   "cell_type": "code",
   "execution_count": 22,
   "metadata": {},
   "outputs": [
    {
     "ename": "RuntimeError",
     "evalue": "Connection reset!",
     "output_type": "error",
     "traceback": [
      "\u001b[0;31m---------------------------------------------------------------------------\u001b[0m",
      "\u001b[0;31mRuntimeError\u001b[0m                              Traceback (most recent call last)",
      "Cell \u001b[0;32mIn[22], line 12\u001b[0m\n\u001b[1;32m     10\u001b[0m bf \u001b[38;5;241m=\u001b[39m BloomFilter(size\u001b[38;5;241m=\u001b[39m\u001b[38;5;241m30\u001b[39m, function_count\u001b[38;5;241m=\u001b[39m\u001b[38;5;241m5\u001b[39m, tweak\u001b[38;5;241m=\u001b[39m\u001b[38;5;241m90210\u001b[39m)\n\u001b[1;32m     11\u001b[0m bf\u001b[38;5;241m.\u001b[39madd(h160)\n\u001b[0;32m---> 12\u001b[0m \u001b[43mnode\u001b[49m\u001b[38;5;241;43m.\u001b[39;49m\u001b[43mhandshake\u001b[49m\u001b[43m(\u001b[49m\u001b[43m)\u001b[49m\n\u001b[1;32m     13\u001b[0m node\u001b[38;5;241m.\u001b[39msend(bf\u001b[38;5;241m.\u001b[39mfilterload())\n\u001b[1;32m     14\u001b[0m start_block \u001b[38;5;241m=\u001b[39m \u001b[38;5;28mbytes\u001b[39m\u001b[38;5;241m.\u001b[39mfromhex(last_block_hex)\n",
      "File \u001b[0;32m~/Documents/Projects/programmingbitcoin/code-ch12/network.py:371\u001b[0m, in \u001b[0;36mSimpleNode.handshake\u001b[0;34m(self)\u001b[0m\n\u001b[1;32m    369\u001b[0m \u001b[38;5;28mself\u001b[39m\u001b[38;5;241m.\u001b[39msend(version)\n\u001b[1;32m    370\u001b[0m \u001b[38;5;66;03m# wait for a verack message\u001b[39;00m\n\u001b[0;32m--> 371\u001b[0m \u001b[38;5;28;43mself\u001b[39;49m\u001b[38;5;241;43m.\u001b[39;49m\u001b[43mwait_for\u001b[49m\u001b[43m(\u001b[49m\u001b[43mVerAckMessage\u001b[49m\u001b[43m)\u001b[49m\n",
      "File \u001b[0;32m~/Documents/Projects/programmingbitcoin/code-ch12/network.py:398\u001b[0m, in \u001b[0;36mSimpleNode.wait_for\u001b[0;34m(self, *message_classes)\u001b[0m\n\u001b[1;32m    395\u001b[0m \u001b[38;5;66;03m# loop until the command is in the commands we want\u001b[39;00m\n\u001b[1;32m    396\u001b[0m \u001b[38;5;28;01mwhile\u001b[39;00m command \u001b[38;5;129;01mnot\u001b[39;00m \u001b[38;5;129;01min\u001b[39;00m command_to_class\u001b[38;5;241m.\u001b[39mkeys():\n\u001b[1;32m    397\u001b[0m     \u001b[38;5;66;03m# get the next network message\u001b[39;00m\n\u001b[0;32m--> 398\u001b[0m     envelope \u001b[38;5;241m=\u001b[39m \u001b[38;5;28;43mself\u001b[39;49m\u001b[38;5;241;43m.\u001b[39;49m\u001b[43mread\u001b[49m\u001b[43m(\u001b[49m\u001b[43m)\u001b[49m\n\u001b[1;32m    399\u001b[0m     \u001b[38;5;66;03m# set the command to be evaluated\u001b[39;00m\n\u001b[1;32m    400\u001b[0m     command \u001b[38;5;241m=\u001b[39m envelope\u001b[38;5;241m.\u001b[39mcommand\n",
      "File \u001b[0;32m~/Documents/Projects/programmingbitcoin/code-ch12/network.py:385\u001b[0m, in \u001b[0;36mSimpleNode.read\u001b[0;34m(self)\u001b[0m\n\u001b[1;32m    383\u001b[0m \u001b[38;5;28;01mdef\u001b[39;00m \u001b[38;5;21mread\u001b[39m(\u001b[38;5;28mself\u001b[39m):\n\u001b[1;32m    384\u001b[0m \u001b[38;5;250m    \u001b[39m\u001b[38;5;124;03m'''Read a message from the socket'''\u001b[39;00m\n\u001b[0;32m--> 385\u001b[0m     envelope \u001b[38;5;241m=\u001b[39m \u001b[43mNetworkEnvelope\u001b[49m\u001b[38;5;241;43m.\u001b[39;49m\u001b[43mparse\u001b[49m\u001b[43m(\u001b[49m\u001b[38;5;28;43mself\u001b[39;49m\u001b[38;5;241;43m.\u001b[39;49m\u001b[43mstream\u001b[49m\u001b[43m,\u001b[49m\u001b[43m \u001b[49m\u001b[43mtestnet\u001b[49m\u001b[38;5;241;43m=\u001b[39;49m\u001b[38;5;28;43mself\u001b[39;49m\u001b[38;5;241;43m.\u001b[39;49m\u001b[43mtestnet\u001b[49m\u001b[43m)\u001b[49m\n\u001b[1;32m    386\u001b[0m     \u001b[38;5;28;01mif\u001b[39;00m \u001b[38;5;28mself\u001b[39m\u001b[38;5;241m.\u001b[39mlogging:\n\u001b[1;32m    387\u001b[0m         \u001b[38;5;28mprint\u001b[39m(\u001b[38;5;124m'\u001b[39m\u001b[38;5;124mreceiving: \u001b[39m\u001b[38;5;132;01m{}\u001b[39;00m\u001b[38;5;124m'\u001b[39m\u001b[38;5;241m.\u001b[39mformat(envelope))\n",
      "File \u001b[0;32m~/Documents/Projects/programmingbitcoin/code-ch12/network.py:48\u001b[0m, in \u001b[0;36mNetworkEnvelope.parse\u001b[0;34m(cls, s, testnet)\u001b[0m\n\u001b[1;32m     46\u001b[0m magic \u001b[38;5;241m=\u001b[39m s\u001b[38;5;241m.\u001b[39mread(\u001b[38;5;241m4\u001b[39m)\n\u001b[1;32m     47\u001b[0m \u001b[38;5;28;01mif\u001b[39;00m magic \u001b[38;5;241m==\u001b[39m \u001b[38;5;124mb\u001b[39m\u001b[38;5;124m'\u001b[39m\u001b[38;5;124m'\u001b[39m:\n\u001b[0;32m---> 48\u001b[0m     \u001b[38;5;28;01mraise\u001b[39;00m \u001b[38;5;167;01mRuntimeError\u001b[39;00m(\u001b[38;5;124m'\u001b[39m\u001b[38;5;124mConnection reset!\u001b[39m\u001b[38;5;124m'\u001b[39m)\n\u001b[1;32m     49\u001b[0m \u001b[38;5;28;01mif\u001b[39;00m testnet:\n\u001b[1;32m     50\u001b[0m     expected_magic \u001b[38;5;241m=\u001b[39m TESTNET_NETWORK_MAGIC\n",
      "\u001b[0;31mRuntimeError\u001b[0m: Connection reset!"
     ]
    }
   ],
   "source": [
    "from bloomfilter import BloomFilter\n",
    "from helper import decode_base58\n",
    "from merkleblock import MerkleBlock\n",
    "from network import FILTERED_BLOCK_DATA_TYPE, GetHeadersMessage, GetDataMessage, HeadersMessage, SimpleNode\n",
    "from tx import Tx\n",
    "last_block_hex = '00000000000538d5c2246336644f9a4956551afb44ba47278759ec55ea912e19'\n",
    "address = 'mwJn1YPMq7y5F8J3LkC5Hxg9PHyZ5K4cFv'\n",
    "h160 = decode_base58(address)\n",
    "node = SimpleNode('138.201.78.28', testnet=True, logging=False)\n",
    "bf = BloomFilter(size=30, function_count=5, tweak=90210)\n",
    "bf.add(h160)\n",
    "node.handshake()\n",
    "node.send(bf.filterload())\n",
    "start_block = bytes.fromhex(last_block_hex)\n",
    "getheaders = GetHeadersMessage(start_block=start_block)\n",
    "node.send(getheaders)\n",
    "headers = node.wait_for(HeadersMessage)\n",
    "getdata = GetDataMessage()\n",
    "for b in headers.blocks:\n",
    "    if not b.check_pow():\n",
    "        raise RuntimeError('proof of work is invalid')\n",
    "    getdata.add_data(FILTERED_BLOCK_DATA_TYPE, b.hash())\n",
    "node.send(getdata)\n",
    "found = False\n",
    "while not found:\n",
    "    message = node.wait_for(MerkleBlock, Tx)\n",
    "    if message.command == b'merkleblock':\n",
    "        if not message.is_valid():\n",
    "            raise RuntimeError('invalid merkle proof')\n",
    "    else:\n",
    "        for i, tx_out in enumerate(message.tx_outs):\n",
    "            if tx_out.script_pubkey.address(testnet=True) == address:\n",
    "                print('found: {}:{}'.format(message.id(), i))\n",
    "                found = True\n",
    "                break"
   ]
  },
  {
   "cell_type": "markdown",
   "metadata": {},
   "source": [
    "### Exercise 6\n",
    "\n",
    "Get the current testnet block ID, send yourself some testnet coins, find the UTXO corresponding to the testnet coin _without using a block explorer_, create a transaction using that UTXO as an input and broadcast the `tx` message on the  testnet network."
   ]
  },
  {
   "cell_type": "code",
   "execution_count": 21,
   "metadata": {},
   "outputs": [
    {
     "ename": "RuntimeError",
     "evalue": "Connection reset!",
     "output_type": "error",
     "traceback": [
      "\u001b[0;31m---------------------------------------------------------------------------\u001b[0m",
      "\u001b[0;31mRuntimeError\u001b[0m                              Traceback (most recent call last)",
      "Cell \u001b[0;32mIn[21], line 42\u001b[0m\n\u001b[1;32m     40\u001b[0m bf\u001b[38;5;241m.\u001b[39madd(h160)\n\u001b[1;32m     41\u001b[0m \u001b[38;5;66;03m# complete the handshake\u001b[39;00m\n\u001b[0;32m---> 42\u001b[0m \u001b[43mnode\u001b[49m\u001b[38;5;241;43m.\u001b[39;49m\u001b[43mhandshake\u001b[49m\u001b[43m(\u001b[49m\u001b[43m)\u001b[49m\n\u001b[1;32m     43\u001b[0m \u001b[38;5;66;03m# load the bloom filter with the filterload command\u001b[39;00m\n\u001b[1;32m     44\u001b[0m node\u001b[38;5;241m.\u001b[39msend(bf\u001b[38;5;241m.\u001b[39mfilterload())\n",
      "File \u001b[0;32m~/Documents/Projects/programmingbitcoin/code-ch12/network.py:371\u001b[0m, in \u001b[0;36mSimpleNode.handshake\u001b[0;34m(self)\u001b[0m\n\u001b[1;32m    369\u001b[0m \u001b[38;5;28mself\u001b[39m\u001b[38;5;241m.\u001b[39msend(version)\n\u001b[1;32m    370\u001b[0m \u001b[38;5;66;03m# wait for a verack message\u001b[39;00m\n\u001b[0;32m--> 371\u001b[0m \u001b[38;5;28;43mself\u001b[39;49m\u001b[38;5;241;43m.\u001b[39;49m\u001b[43mwait_for\u001b[49m\u001b[43m(\u001b[49m\u001b[43mVerAckMessage\u001b[49m\u001b[43m)\u001b[49m\n",
      "File \u001b[0;32m~/Documents/Projects/programmingbitcoin/code-ch12/network.py:398\u001b[0m, in \u001b[0;36mSimpleNode.wait_for\u001b[0;34m(self, *message_classes)\u001b[0m\n\u001b[1;32m    395\u001b[0m \u001b[38;5;66;03m# loop until the command is in the commands we want\u001b[39;00m\n\u001b[1;32m    396\u001b[0m \u001b[38;5;28;01mwhile\u001b[39;00m command \u001b[38;5;129;01mnot\u001b[39;00m \u001b[38;5;129;01min\u001b[39;00m command_to_class\u001b[38;5;241m.\u001b[39mkeys():\n\u001b[1;32m    397\u001b[0m     \u001b[38;5;66;03m# get the next network message\u001b[39;00m\n\u001b[0;32m--> 398\u001b[0m     envelope \u001b[38;5;241m=\u001b[39m \u001b[38;5;28;43mself\u001b[39;49m\u001b[38;5;241;43m.\u001b[39;49m\u001b[43mread\u001b[49m\u001b[43m(\u001b[49m\u001b[43m)\u001b[49m\n\u001b[1;32m    399\u001b[0m     \u001b[38;5;66;03m# set the command to be evaluated\u001b[39;00m\n\u001b[1;32m    400\u001b[0m     command \u001b[38;5;241m=\u001b[39m envelope\u001b[38;5;241m.\u001b[39mcommand\n",
      "File \u001b[0;32m~/Documents/Projects/programmingbitcoin/code-ch12/network.py:385\u001b[0m, in \u001b[0;36mSimpleNode.read\u001b[0;34m(self)\u001b[0m\n\u001b[1;32m    383\u001b[0m \u001b[38;5;28;01mdef\u001b[39;00m \u001b[38;5;21mread\u001b[39m(\u001b[38;5;28mself\u001b[39m):\n\u001b[1;32m    384\u001b[0m \u001b[38;5;250m    \u001b[39m\u001b[38;5;124;03m'''Read a message from the socket'''\u001b[39;00m\n\u001b[0;32m--> 385\u001b[0m     envelope \u001b[38;5;241m=\u001b[39m \u001b[43mNetworkEnvelope\u001b[49m\u001b[38;5;241;43m.\u001b[39;49m\u001b[43mparse\u001b[49m\u001b[43m(\u001b[49m\u001b[38;5;28;43mself\u001b[39;49m\u001b[38;5;241;43m.\u001b[39;49m\u001b[43mstream\u001b[49m\u001b[43m,\u001b[49m\u001b[43m \u001b[49m\u001b[43mtestnet\u001b[49m\u001b[38;5;241;43m=\u001b[39;49m\u001b[38;5;28;43mself\u001b[39;49m\u001b[38;5;241;43m.\u001b[39;49m\u001b[43mtestnet\u001b[49m\u001b[43m)\u001b[49m\n\u001b[1;32m    386\u001b[0m     \u001b[38;5;28;01mif\u001b[39;00m \u001b[38;5;28mself\u001b[39m\u001b[38;5;241m.\u001b[39mlogging:\n\u001b[1;32m    387\u001b[0m         \u001b[38;5;28mprint\u001b[39m(\u001b[38;5;124m'\u001b[39m\u001b[38;5;124mreceiving: \u001b[39m\u001b[38;5;132;01m{}\u001b[39;00m\u001b[38;5;124m'\u001b[39m\u001b[38;5;241m.\u001b[39mformat(envelope))\n",
      "File \u001b[0;32m~/Documents/Projects/programmingbitcoin/code-ch12/network.py:48\u001b[0m, in \u001b[0;36mNetworkEnvelope.parse\u001b[0;34m(cls, s, testnet)\u001b[0m\n\u001b[1;32m     46\u001b[0m magic \u001b[38;5;241m=\u001b[39m s\u001b[38;5;241m.\u001b[39mread(\u001b[38;5;241m4\u001b[39m)\n\u001b[1;32m     47\u001b[0m \u001b[38;5;28;01mif\u001b[39;00m magic \u001b[38;5;241m==\u001b[39m \u001b[38;5;124mb\u001b[39m\u001b[38;5;124m'\u001b[39m\u001b[38;5;124m'\u001b[39m:\n\u001b[0;32m---> 48\u001b[0m     \u001b[38;5;28;01mraise\u001b[39;00m \u001b[38;5;167;01mRuntimeError\u001b[39;00m(\u001b[38;5;124m'\u001b[39m\u001b[38;5;124mConnection reset!\u001b[39m\u001b[38;5;124m'\u001b[39m)\n\u001b[1;32m     49\u001b[0m \u001b[38;5;28;01mif\u001b[39;00m testnet:\n\u001b[1;32m     50\u001b[0m     expected_magic \u001b[38;5;241m=\u001b[39m TESTNET_NETWORK_MAGIC\n",
      "\u001b[0;31mRuntimeError\u001b[0m: Connection reset!"
     ]
    }
   ],
   "source": [
    "# Exercise 6\n",
    "\n",
    "import time\n",
    "\n",
    "from block import Block\n",
    "from bloomfilter import BloomFilter\n",
    "from ecc import PrivateKey\n",
    "from helper import hash256, little_endian_to_int, encode_varint, read_varint, decode_base58, SIGHASH_ALL\n",
    "from merkleblock import MerkleBlock\n",
    "from network import (\n",
    "    GetDataMessage,\n",
    "    GetHeadersMessage,\n",
    "    HeadersMessage,\n",
    "    NetworkEnvelope,\n",
    "    SimpleNode,\n",
    "    TX_DATA_TYPE,\n",
    "    FILTERED_BLOCK_DATA_TYPE,\n",
    ")\n",
    "from script import p2pkh_script, Script\n",
    "from tx import Tx, TxIn, TxOut\n",
    "\n",
    "last_block_hex = '000000000000002445ff3cefe8a602f1d3aaa2b61817f8c677e679ef3d804898'  # FILL THIS IN\n",
    "\n",
    "secret = little_endian_to_int(hash256(b'ajanks@gmail.com-atop-sanction-dork-calorie'))  # FILL THIS IN\n",
    "private_key = PrivateKey(secret=secret)\n",
    "addr = private_key.point.address(testnet=True)\n",
    "h160 = decode_base58(addr)\n",
    "\n",
    "target_address = 'mwJn1YPMq7y5F8J3LkC5Hxg9PHyZ5K4cFv'\n",
    "target_h160 = decode_base58(target_address)\n",
    "target_script = p2pkh_script(target_h160)\n",
    "fee = 5000  # fee in satoshis\n",
    "\n",
    "\n",
    "# connect to testnet.programmingbitcoin.com in testnet mode\n",
    "node = SimpleNode('138.201.78.28', testnet=True, logging=False)\n",
    "# create a bloom filter of size 30 and 5 functions. Add a tweak.\n",
    "bf = BloomFilter(size=30, function_count=5, tweak=90210)\n",
    "# add the h160 to the bloom filter\n",
    "bf.add(h160)\n",
    "# complete the handshake\n",
    "node.handshake()\n",
    "# load the bloom filter with the filterload command\n",
    "node.send(bf.filterload())\n",
    "# set start block to last_block from above\n",
    "start_block = bytes.fromhex(last_block_hex)\n",
    "# send a getheaders message with the starting block\n",
    "getheaders = GetHeadersMessage(start_block=start_block)\n",
    "node.send(getheaders)\n",
    "# wait for the headers message\n",
    "headers = node.wait_for(HeadersMessage)\n",
    "# store the last block as None\n",
    "last_block = None\n",
    "# initialize the GetDataMessage\n",
    "getdata = GetDataMessage()\n",
    "# loop through the blocks in the headers\n",
    "for b in headers.blocks:\n",
    "    # check that the proof of work on the block is valid\n",
    "    if not b.check_pow():\n",
    "        raise RuntimeError('proof of work is invalid')\n",
    "    # check that this block's prev_block is the last block\n",
    "    if last_block != None and last_block != b.prev_block:\n",
    "        raise RuntimeError('invlaid prev block hash')\n",
    "    # add a new item to the get_data_message\n",
    "    # should be FILTERED_BLOCK_DATA_TYPE and block hash\n",
    "    getdata.add_data(FILTERED_BLOCK_DATA_TYPE, b.hash())           \n",
    "    # set the last block to the current hash\n",
    "    last_block = b.hash()\n",
    "# send the getdata message\n",
    "node.send(getdata)\n",
    "# initialize prev_tx and prev_index to None\n",
    "prev_tx = None\n",
    "prev_index = None\n",
    "# loop while prev_tx is None \n",
    "while prev_tx is None:  \n",
    "    # wait for the merkleblock or tx commands\n",
    "    message = node.wait_for(MerkleBlock, Tx)    \n",
    "    # if we have the merkleblock command\n",
    "    if message.command == b'merkleblock':   \n",
    "        # check that the MerkleBlock is valid\n",
    "        if not message.is_valid():\n",
    "            raise RuntimeError('invalid merkle proof')         \n",
    "    # else we have the tx command\n",
    "    else:            \n",
    "        # set the tx's testnet to be True\n",
    "        # loop through the tx outs\n",
    "        for i, tx_out in enumerate(message.tx_outs):      \n",
    "            # if our output has the same address as our address we found it\n",
    "            if tx_out.script_pubkey.address(testnet=True) == address:           \n",
    "                # we found our utxo. set prev_tx, prev_index, and tx\n",
    "                prev_tx = message.hash()\n",
    "                prev_index = i\n",
    "                prev_amount = tx_out.amount\n",
    "                print('found: {}:{} ({} sats)'.format(prev_tx, prev_index, prev_amount)) \n",
    "# create the TxIn\n",
    "tx_in = TxIn(prev_tx, prev_index)          \n",
    "# calculate the output amount (previous amount minus the fee)\n",
    "out_amount = prev_amount - fee\n",
    "# create a new TxOut to the target script with the output amount\n",
    "tx_out = TxOut(out_amount, target_script)\n",
    "# create a new transaction with the one input and one output\n",
    "tx = Tx(1,[tx_in],[tx_out],0,testnet=True)\n",
    "# sign the only input of the transaction\n",
    "tx.sign_input(0,private_key)\n",
    "# serialize and hex to see what it looks like\n",
    "print(tx.serialize().hex())\n",
    "# send this signed transaction on the network\n",
    "node.send(tx)\n",
    "# wait a sec so this message goes through with time.sleep(1) \n",
    "time.sleep(1) \n",
    "# now ask for this transaction from the other node\n",
    "# create a GetDataMessage\n",
    "datamsg = GetDataMessage()\n",
    "# ask for our transaction by adding it to the message\n",
    "datamsg.add_data(TX_DATA_TYPE,tx.hash())\n",
    "# send the message\n",
    "node.send(datamsg)\n",
    "# now wait for a Tx response\n",
    "tx_response = node.wait_for(tx)\n",
    "# if the received tx has the same id as our tx, we are done!\n",
    "if tx_response.id == tx.id:\n",
    "    print('success!!')\n",
    "else:\n",
    "    print('failed!!')"
   ]
  },
  {
   "cell_type": "code",
   "execution_count": null,
   "metadata": {},
   "outputs": [],
   "source": []
  }
 ],
 "metadata": {
  "kernelspec": {
   "display_name": "Python 3 (ipykernel)",
   "language": "python",
   "name": "python3"
  },
  "language_info": {
   "codemirror_mode": {
    "name": "ipython",
    "version": 3
   },
   "file_extension": ".py",
   "mimetype": "text/x-python",
   "name": "python",
   "nbconvert_exporter": "python",
   "pygments_lexer": "ipython3",
   "version": "3.11.1"
  }
 },
 "nbformat": 4,
 "nbformat_minor": 4
}
